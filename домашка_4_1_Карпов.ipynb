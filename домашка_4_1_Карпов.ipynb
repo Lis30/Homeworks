{
  "nbformat": 4,
  "nbformat_minor": 0,
  "metadata": {
    "colab": {
      "provenance": [],
      "authorship_tag": "ABX9TyM8ZN5YnpzdvpVIefysLpFz",
      "include_colab_link": true
    },
    "kernelspec": {
      "name": "python3",
      "display_name": "Python 3"
    },
    "language_info": {
      "name": "python"
    }
  },
  "cells": [
    {
      "cell_type": "markdown",
      "metadata": {
        "id": "view-in-github",
        "colab_type": "text"
      },
      "source": [
        "<a href=\"https://colab.research.google.com/github/Lis30/Homeworks/blob/main/%D0%B4%D0%BE%D0%BC%D0%B0%D1%88%D0%BA%D0%B0_4_1_%D0%9A%D0%B0%D1%80%D0%BF%D0%BE%D0%B2.ipynb\" target=\"_parent\"><img src=\"https://colab.research.google.com/assets/colab-badge.svg\" alt=\"Open In Colab\"/></a>"
      ]
    },
    {
      "cell_type": "code",
      "execution_count": null,
      "metadata": {
        "id": "JnIbCvIP6Syp"
      },
      "outputs": [],
      "source": [
        "import pandas as pd\n",
        "import numpy as np"
      ]
    },
    {
      "cell_type": "markdown",
      "source": [
        "1) В переменной df находится датафрэйм. Ваша задача положить в переменную  df_shape строку с информацией сколько линий и столбцов он имеет в следующем виде:<br>\n",
        "'df has y rows and x columns'<br>\n",
        "где y – число строк, а x – число колонок."
      ],
      "metadata": {
        "id": "1aFpP-CF7PnW"
      }
    },
    {
      "cell_type": "code",
      "source": [
        "df = pd.read_csv('taxi_peru.csv', sep = ';')"
      ],
      "metadata": {
        "id": "VLeX_50_wY7V"
      },
      "execution_count": null,
      "outputs": []
    },
    {
      "cell_type": "code",
      "source": [
        "df_shape = f'df has {df.shape[0]} rows and {df.shape[1]} columns'\n",
        "df_shape"
      ],
      "metadata": {
        "id": "xiiOaAv684Uu",
        "colab": {
          "base_uri": "https://localhost:8080/",
          "height": 35
        },
        "outputId": "de7b9dba-341f-40be-d286-5b6242113a4b"
      },
      "execution_count": null,
      "outputs": [
        {
          "output_type": "execute_result",
          "data": {
            "text/plain": [
              "'df has 23111 rows and 19 columns'"
            ],
            "application/vnd.google.colaboratory.intrinsic+json": {
              "type": "string"
            }
          },
          "metadata": {},
          "execution_count": 16
        }
      ]
    },
    {
      "cell_type": "markdown",
      "source": [
        "2) Положите в переменную na_number серию, в которой для каждой колонки указано сколько ячеек содержат пропущенные значения. Например, для такого датафрэйма:<br> task2_1.png (в папке)<br>\n",
        "Ответ будет: task2_2.png (в папке)<br>"
      ],
      "metadata": {
        "id": "ERMX76DY7QBA"
      }
    },
    {
      "cell_type": "markdown",
      "source": [
        "![task2_1.png](data:image/png;base64,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)"
      ],
      "metadata": {
        "id": "J-8awq7xrAqh"
      }
    },
    {
      "cell_type": "markdown",
      "source": [
        "![task2_2.png](data:image/png;base64,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)"
      ],
      "metadata": {
        "id": "V5tNHheHrE43"
      }
    },
    {
      "cell_type": "code",
      "source": [
        "na_number = df.isna().sum()"
      ],
      "metadata": {
        "id": "K9_kUoEv84vF"
      },
      "execution_count": null,
      "outputs": []
    },
    {
      "cell_type": "markdown",
      "source": [
        "3) Сохраните в переменную df_types типы данных каждой колонки датафрэйма df."
      ],
      "metadata": {
        "id": "6O-F6aMc7QLd"
      }
    },
    {
      "cell_type": "code",
      "source": [
        "df_types = df.dtypes"
      ],
      "metadata": {
        "id": "AjNH6Uy385Yd"
      },
      "execution_count": null,
      "outputs": []
    },
    {
      "cell_type": "markdown",
      "source": [
        "4) Внезапно оказалось, что в переменной age значения хранятся в виде строк! Поменяйте тип значений на целочисленный в этой колонке датафрэйма df."
      ],
      "metadata": {
        "id": "6FnaHX-E7QVs"
      }
    },
    {
      "cell_type": "code",
      "source": [
        "df['age'] = df['age'].astype(int)"
      ],
      "metadata": {
        "id": "v3vXOGpw853G"
      },
      "execution_count": null,
      "outputs": []
    },
    {
      "cell_type": "markdown",
      "source": [
        "5) Как выяснилось, для дальнейшего анализа нам не понадобятся колонки sex и age – удалите их из датафрэйма."
      ],
      "metadata": {
        "id": "87Bu7ZBF7QfO"
      }
    },
    {
      "cell_type": "code",
      "source": [
        "df = df.drop(['sex', 'age'], axis= 1 , inplace= True )"
      ],
      "metadata": {
        "id": "_uhmvWeN86kl"
      },
      "execution_count": null,
      "outputs": []
    },
    {
      "cell_type": "markdown",
      "source": [
        "6) А теперь проверим, есть ли в нашей таблице df дубликаты по полю client_id – дропните все строки, в которых значения в колонке client_id повторяются."
      ],
      "metadata": {
        "id": "svuIq3mq7Qo9"
      }
    },
    {
      "cell_type": "code",
      "source": [
        "df = df.drop_duplicates(['client_id'])"
      ],
      "metadata": {
        "id": "N-9ZCIcZ87B9"
      },
      "execution_count": null,
      "outputs": []
    },
    {
      "cell_type": "markdown",
      "source": [
        "7) Небольшой перерыв на чистый питон. В списке numbers содержатся числа. Добавьте через цикл в список positive_numbers положительные числа из numbers. При этом, если вам попался 0, то нужно прекратить этот цикл.<br>\n",
        "Например,<br>\n",
        "numbers = [1, -2, 3, 0, -3, 2]<br>\n",
        "Тогда positive_numbers должен быть:<br>\n",
        "positive_numbers = [1, 3]"
      ],
      "metadata": {
        "id": "MR6znkSY7Qxt"
      }
    },
    {
      "cell_type": "code",
      "source": [
        "def pos(num):\n",
        "    positive_numbers = []\n",
        "    for i in num:\n",
        "        if i == 0:\n",
        "            break\n",
        "        if i > 0:\n",
        "            positive_numbers.append(i)\n",
        "    return positive_numbers\n",
        "\n",
        "numbers = [1, -2, 3, 0, -3, 2]\n",
        "print(pos(numbers))"
      ],
      "metadata": {
        "id": "-wbe22b287q1",
        "colab": {
          "base_uri": "https://localhost:8080/"
        },
        "outputId": "08d8e383-49ce-4ad7-b73b-a775b425dd5e"
      },
      "execution_count": null,
      "outputs": [
        {
          "output_type": "stream",
          "name": "stdout",
          "text": [
            "[1, 3]\n"
          ]
        }
      ]
    },
    {
      "cell_type": "markdown",
      "source": [
        "8) Продолжим анализ данных по поездкам. В предыдущем уроке вы изучили распределения оценок водителей и клиентов. Теперь посмотрим на колонки со временем!<br>\n",
        "Сохраните данные, находящиеся в папке (taxi_peru.csv), в переменную taxi, разделитель – ;. <br>\n",
        "Затем приведите столбцы start_at, end_at, arrived_at к формату даты, используя pd.to_datetime().<br>\n",
        "Отфильтруйте данные и оставьте наблюдения со статусом заказа \"asap\" и \"reserved\" (start_type) ."
      ],
      "metadata": {
        "id": "CqDEfkWj7Q6P"
      }
    },
    {
      "cell_type": "code",
      "source": [
        "taxi = pd.read_csv('taxi_peru.csv', sep = ';')"
      ],
      "metadata": {
        "id": "josB-lJX88Ou"
      },
      "execution_count": null,
      "outputs": []
    },
    {
      "cell_type": "code",
      "source": [
        "taxi[['start_at', 'end_at', 'arrived_at']] = taxi[['start_at', 'end_at', 'arrived_at']].apply(pd.to_datetime)"
      ],
      "metadata": {
        "id": "JsVbh6Gi2kJj"
      },
      "execution_count": null,
      "outputs": []
    },
    {
      "cell_type": "code",
      "source": [
        "taxi = taxi.query('start_type == \"asap\" or start_type == \"reserved\"')"
      ],
      "metadata": {
        "id": "7pdnEnkh6Kos"
      },
      "execution_count": null,
      "outputs": []
    },
    {
      "cell_type": "markdown",
      "source": [
        "9) ⭐️Задание со звёздочкой!⭐️\n",
        "Создайте колонку wait_time, в которой будет храниться разница между временем подачи машины (arrived_at) и временем заказа (start_at) в минутах. Чтобы сконвертировать полученный результат в минуты, можно использовать метод  .astype('timedelta64[m]')"
      ],
      "metadata": {
        "id": "Ta5PwRP677Zn"
      }
    },
    {
      "cell_type": "code",
      "source": [
        "taxi['wait_time'] = (taxi.arrived_at - taxi.start_at)/pd.Timedelta(minutes=1)\n",
        "# .astype('timedelta64[m]') выдаёт ошибку, т.к. изначально даты конвертировались в [ns], чтобы перевести в минуты,\n",
        "#разделила на минуту"
      ],
      "metadata": {
        "id": "vXqfIG3l884t"
      },
      "execution_count": null,
      "outputs": []
    },
    {
      "cell_type": "markdown",
      "source": [
        "9.1) ⭐️Задание со звёздочкой!⭐️<br>\n",
        "Посмотрим, какие водители опаздывали на заказы к определенному времени (start_type == 'reserved'). Опозданием считается время ожидания wait_time > 0.0.\n",
        "Сгруппируйте отфильтрованные данные по driver_id и в качестве ответа укажите id водителя, который опоздал на заказ интересующего нас типа наибольшее число раз"
      ],
      "metadata": {
        "id": "UXLB6SFv78Bf"
      }
    },
    {
      "cell_type": "code",
      "source": [
        "taxi.query('start_type == \"reserved\" and wait_time > 0').\\\n",
        "                        groupby('driver_id').\\\n",
        "                        agg({'wait_time': 'count'}).\\\n",
        "                        sort_values('wait_time', ascending=False).\\\n",
        "                        head(1)"
      ],
      "metadata": {
        "id": "T5sydPty89g1",
        "colab": {
          "base_uri": "https://localhost:8080/",
          "height": 112
        },
        "outputId": "037193c5-712e-419f-eda2-9f3f76e533c7"
      },
      "execution_count": null,
      "outputs": [
        {
          "output_type": "execute_result",
          "data": {
            "text/plain": [
              "                                  wait_time\n",
              "driver_id                                  \n",
              "406921adcca37705ef527b4246c0cfea         67"
            ],
            "text/html": [
              "\n",
              "  <div id=\"df-cd5c0dd1-61a1-4c7d-93a6-6a0cb0005ad9\" class=\"colab-df-container\">\n",
              "    <div>\n",
              "<style scoped>\n",
              "    .dataframe tbody tr th:only-of-type {\n",
              "        vertical-align: middle;\n",
              "    }\n",
              "\n",
              "    .dataframe tbody tr th {\n",
              "        vertical-align: top;\n",
              "    }\n",
              "\n",
              "    .dataframe thead th {\n",
              "        text-align: right;\n",
              "    }\n",
              "</style>\n",
              "<table border=\"1\" class=\"dataframe\">\n",
              "  <thead>\n",
              "    <tr style=\"text-align: right;\">\n",
              "      <th></th>\n",
              "      <th>wait_time</th>\n",
              "    </tr>\n",
              "    <tr>\n",
              "      <th>driver_id</th>\n",
              "      <th></th>\n",
              "    </tr>\n",
              "  </thead>\n",
              "  <tbody>\n",
              "    <tr>\n",
              "      <th>406921adcca37705ef527b4246c0cfea</th>\n",
              "      <td>67</td>\n",
              "    </tr>\n",
              "  </tbody>\n",
              "</table>\n",
              "</div>\n",
              "    <div class=\"colab-df-buttons\">\n",
              "\n",
              "  <div class=\"colab-df-container\">\n",
              "    <button class=\"colab-df-convert\" onclick=\"convertToInteractive('df-cd5c0dd1-61a1-4c7d-93a6-6a0cb0005ad9')\"\n",
              "            title=\"Convert this dataframe to an interactive table.\"\n",
              "            style=\"display:none;\">\n",
              "\n",
              "  <svg xmlns=\"http://www.w3.org/2000/svg\" height=\"24px\" viewBox=\"0 -960 960 960\">\n",
              "    <path d=\"M120-120v-720h720v720H120Zm60-500h600v-160H180v160Zm220 220h160v-160H400v160Zm0 220h160v-160H400v160ZM180-400h160v-160H180v160Zm440 0h160v-160H620v160ZM180-180h160v-160H180v160Zm440 0h160v-160H620v160Z\"/>\n",
              "  </svg>\n",
              "    </button>\n",
              "\n",
              "  <style>\n",
              "    .colab-df-container {\n",
              "      display:flex;\n",
              "      gap: 12px;\n",
              "    }\n",
              "\n",
              "    .colab-df-convert {\n",
              "      background-color: #E8F0FE;\n",
              "      border: none;\n",
              "      border-radius: 50%;\n",
              "      cursor: pointer;\n",
              "      display: none;\n",
              "      fill: #1967D2;\n",
              "      height: 32px;\n",
              "      padding: 0 0 0 0;\n",
              "      width: 32px;\n",
              "    }\n",
              "\n",
              "    .colab-df-convert:hover {\n",
              "      background-color: #E2EBFA;\n",
              "      box-shadow: 0px 1px 2px rgba(60, 64, 67, 0.3), 0px 1px 3px 1px rgba(60, 64, 67, 0.15);\n",
              "      fill: #174EA6;\n",
              "    }\n",
              "\n",
              "    .colab-df-buttons div {\n",
              "      margin-bottom: 4px;\n",
              "    }\n",
              "\n",
              "    [theme=dark] .colab-df-convert {\n",
              "      background-color: #3B4455;\n",
              "      fill: #D2E3FC;\n",
              "    }\n",
              "\n",
              "    [theme=dark] .colab-df-convert:hover {\n",
              "      background-color: #434B5C;\n",
              "      box-shadow: 0px 1px 3px 1px rgba(0, 0, 0, 0.15);\n",
              "      filter: drop-shadow(0px 1px 2px rgba(0, 0, 0, 0.3));\n",
              "      fill: #FFFFFF;\n",
              "    }\n",
              "  </style>\n",
              "\n",
              "    <script>\n",
              "      const buttonEl =\n",
              "        document.querySelector('#df-cd5c0dd1-61a1-4c7d-93a6-6a0cb0005ad9 button.colab-df-convert');\n",
              "      buttonEl.style.display =\n",
              "        google.colab.kernel.accessAllowed ? 'block' : 'none';\n",
              "\n",
              "      async function convertToInteractive(key) {\n",
              "        const element = document.querySelector('#df-cd5c0dd1-61a1-4c7d-93a6-6a0cb0005ad9');\n",
              "        const dataTable =\n",
              "          await google.colab.kernel.invokeFunction('convertToInteractive',\n",
              "                                                    [key], {});\n",
              "        if (!dataTable) return;\n",
              "\n",
              "        const docLinkHtml = 'Like what you see? Visit the ' +\n",
              "          '<a target=\"_blank\" href=https://colab.research.google.com/notebooks/data_table.ipynb>data table notebook</a>'\n",
              "          + ' to learn more about interactive tables.';\n",
              "        element.innerHTML = '';\n",
              "        dataTable['output_type'] = 'display_data';\n",
              "        await google.colab.output.renderOutput(dataTable, element);\n",
              "        const docLink = document.createElement('div');\n",
              "        docLink.innerHTML = docLinkHtml;\n",
              "        element.appendChild(docLink);\n",
              "      }\n",
              "    </script>\n",
              "  </div>\n",
              "\n",
              "    </div>\n",
              "  </div>\n"
            ],
            "application/vnd.google.colaboratory.intrinsic+json": {
              "type": "dataframe",
              "summary": "{\n  \"name\": \"                        sort_values('wait_time', ascending=False)\",\n  \"rows\": 1,\n  \"fields\": [\n    {\n      \"column\": \"driver_id\",\n      \"properties\": {\n        \"dtype\": \"string\",\n        \"num_unique_values\": 1,\n        \"samples\": [\n          \"406921adcca37705ef527b4246c0cfea\"\n        ],\n        \"semantic_type\": \"\",\n        \"description\": \"\"\n      }\n    },\n    {\n      \"column\": \"wait_time\",\n      \"properties\": {\n        \"dtype\": \"number\",\n        \"std\": null,\n        \"min\": 67,\n        \"max\": 67,\n        \"num_unique_values\": 1,\n        \"samples\": [\n          67\n        ],\n        \"semantic_type\": \"\",\n        \"description\": \"\"\n      }\n    }\n  ]\n}"
            }
          },
          "metadata": {},
          "execution_count": 82
        }
      ]
    },
    {
      "cell_type": "markdown",
      "source": [
        "10) Подумайте, что может влиять на число опозданий из прошлого задания"
      ],
      "metadata": {
        "id": "Ox35halP78PX"
      }
    },
    {
      "cell_type": "code",
      "source": [
        "taxi.query('driver_id == \"406921adcca37705ef527b4246c0cfea\"').agg({'journey_id': 'count'})"
      ],
      "metadata": {
        "id": "fdmPWO_I8-L9",
        "colab": {
          "base_uri": "https://localhost:8080/"
        },
        "outputId": "7ab0cde8-5e4d-4b35-f9a0-b94d189e5372"
      },
      "execution_count": null,
      "outputs": [
        {
          "output_type": "execute_result",
          "data": {
            "text/plain": [
              "journey_id    1075\n",
              "dtype: int64"
            ]
          },
          "metadata": {},
          "execution_count": 84
        }
      ]
    },
    {
      "cell_type": "code",
      "source": [
        "taxi.driver_id.value_counts()"
      ],
      "metadata": {
        "colab": {
          "base_uri": "https://localhost:8080/"
        },
        "id": "YpoeNC_lcX-L",
        "outputId": "d1398a4b-ad28-44c9-e035-2fa87364d89f"
      },
      "execution_count": null,
      "outputs": [
        {
          "output_type": "execute_result",
          "data": {
            "text/plain": [
              "driver_id\n",
              "c814db2127582cf95dea1f74f43127c2    1523\n",
              "d665fb9f75ef5d9cd0fd89479380ba78    1225\n",
              "ff5c924e0b630fd7c019a4234059fdf4    1111\n",
              "406921adcca37705ef527b4246c0cfea    1075\n",
              "ec84a73745199ff840ecafcb924383ad     974\n",
              "                                    ... \n",
              "b3ba9cda1b124b4fdc5d639f2416a9ca       1\n",
              "a8c74399632ec313e9e79e1a30538570       1\n",
              "af07f9929390d66edf63ab7ee480273c       1\n",
              "ab90a1bf4289d96e78d4a47d7cc2cd22       1\n",
              "bf0f0845b5094fda2fcdac195ece97ad       1\n",
              "Name: count, Length: 168, dtype: int64"
            ]
          },
          "metadata": {},
          "execution_count": 86
        }
      ]
    },
    {
      "cell_type": "markdown",
      "source": [
        "Этот водитель - четвёртый по количеству поездок из всей базы, скорее всего, количество опозданий связано с большим количеством поездок (отношение кол-ва поездок с опозданием к общему кол-ву его поездок - 67 / 1075 = 6,23%)"
      ],
      "metadata": {
        "id": "5mddEUNccm-_"
      }
    },
    {
      "cell_type": "markdown",
      "source": [
        "11) ⭐️Задание со звёздочкой!⭐️<br>\n",
        "Добавьте столбец month, где будет храниться месяц, в котором был сделан заказ (start_at), как номер, и столбец weekday – название дня недели."
      ],
      "metadata": {
        "id": "_q62RvUW7RAV"
      }
    },
    {
      "cell_type": "code",
      "source": [
        "taxi['month'] = pd.DatetimeIndex(taxi.start_at).month\n",
        "taxi['weekday'] = pd.DatetimeIndex(taxi.start_at).day_name()\n",
        "taxi.head(3)"
      ],
      "metadata": {
        "id": "A91IYKRV8-92",
        "colab": {
          "base_uri": "https://localhost:8080/",
          "height": 297
        },
        "outputId": "444ea5bb-b777-4466-bf4a-f92b405823a3"
      },
      "execution_count": null,
      "outputs": [
        {
          "output_type": "execute_result",
          "data": {
            "text/plain": [
              "                         journey_id                           user_id  \\\n",
              "0  23a1406fc6a11d866e3c82f22eed4d4c  0e9af5bbf1edfe591b54ecdfd7e91e26   \n",
              "1  dd2af4715d0dc16eded53afc0e243577  a553c46e3a22fb9c326aeb3d72b3334e   \n",
              "2  dd91e131888064bf7df3ce08f3d4b4ad  a553c46e3a22fb9c326aeb3d72b3334e   \n",
              "\n",
              "                          driver_id                           taxi_id  \\\n",
              "0  583949a89a9ee17d19e3ca4f137b6b4c  b12f4f09c783e29fe0d0ea624530db56   \n",
              "1                               NaN                               NaN   \n",
              "2                               NaN                               NaN   \n",
              "\n",
              "        icon start_type            start_at     start_lat     start_lon  \\\n",
              "0  executive       asap 2010-11-16 16:44:00  -12,13983536  -77,02355957   \n",
              "1  executive       asap 2010-06-01 00:34:00  -12,13874817  -76,99536133   \n",
              "2  executive       asap 2010-05-31 05:01:00  -12,12453079  -77,02780151   \n",
              "\n",
              "               end_at  ...  end_state driver_start_lat driver_start_lon  \\\n",
              "0 2010-11-16 17:29:00  ...   drop off     -12,10825481      -77,0272739   \n",
              "1 2010-06-01 00:37:00  ...  not found              NaN              NaN   \n",
              "2 2010-05-31 05:04:00  ...  not found              NaN              NaN   \n",
              "\n",
              "           arrived_at  source driver_score rider_score  wait_time  month  \\\n",
              "0 2010-11-16 17:02:00  iPhone          5.0         5.0       18.0     11   \n",
              "1                 NaT  iPhone          NaN         NaN        NaN      6   \n",
              "2                 NaT  iPhone          NaN         NaN        NaN      5   \n",
              "\n",
              "   weekday  \n",
              "0  Tuesday  \n",
              "1  Tuesday  \n",
              "2   Monday  \n",
              "\n",
              "[3 rows x 22 columns]"
            ],
            "text/html": [
              "\n",
              "  <div id=\"df-5fc7c483-6404-4881-911b-f9a5b1092404\" class=\"colab-df-container\">\n",
              "    <div>\n",
              "<style scoped>\n",
              "    .dataframe tbody tr th:only-of-type {\n",
              "        vertical-align: middle;\n",
              "    }\n",
              "\n",
              "    .dataframe tbody tr th {\n",
              "        vertical-align: top;\n",
              "    }\n",
              "\n",
              "    .dataframe thead th {\n",
              "        text-align: right;\n",
              "    }\n",
              "</style>\n",
              "<table border=\"1\" class=\"dataframe\">\n",
              "  <thead>\n",
              "    <tr style=\"text-align: right;\">\n",
              "      <th></th>\n",
              "      <th>journey_id</th>\n",
              "      <th>user_id</th>\n",
              "      <th>driver_id</th>\n",
              "      <th>taxi_id</th>\n",
              "      <th>icon</th>\n",
              "      <th>start_type</th>\n",
              "      <th>start_at</th>\n",
              "      <th>start_lat</th>\n",
              "      <th>start_lon</th>\n",
              "      <th>end_at</th>\n",
              "      <th>...</th>\n",
              "      <th>end_state</th>\n",
              "      <th>driver_start_lat</th>\n",
              "      <th>driver_start_lon</th>\n",
              "      <th>arrived_at</th>\n",
              "      <th>source</th>\n",
              "      <th>driver_score</th>\n",
              "      <th>rider_score</th>\n",
              "      <th>wait_time</th>\n",
              "      <th>month</th>\n",
              "      <th>weekday</th>\n",
              "    </tr>\n",
              "  </thead>\n",
              "  <tbody>\n",
              "    <tr>\n",
              "      <th>0</th>\n",
              "      <td>23a1406fc6a11d866e3c82f22eed4d4c</td>\n",
              "      <td>0e9af5bbf1edfe591b54ecdfd7e91e26</td>\n",
              "      <td>583949a89a9ee17d19e3ca4f137b6b4c</td>\n",
              "      <td>b12f4f09c783e29fe0d0ea624530db56</td>\n",
              "      <td>executive</td>\n",
              "      <td>asap</td>\n",
              "      <td>2010-11-16 16:44:00</td>\n",
              "      <td>-12,13983536</td>\n",
              "      <td>-77,02355957</td>\n",
              "      <td>2010-11-16 17:29:00</td>\n",
              "      <td>...</td>\n",
              "      <td>drop off</td>\n",
              "      <td>-12,10825481</td>\n",
              "      <td>-77,0272739</td>\n",
              "      <td>2010-11-16 17:02:00</td>\n",
              "      <td>iPhone</td>\n",
              "      <td>5.0</td>\n",
              "      <td>5.0</td>\n",
              "      <td>18.0</td>\n",
              "      <td>11</td>\n",
              "      <td>Tuesday</td>\n",
              "    </tr>\n",
              "    <tr>\n",
              "      <th>1</th>\n",
              "      <td>dd2af4715d0dc16eded53afc0e243577</td>\n",
              "      <td>a553c46e3a22fb9c326aeb3d72b3334e</td>\n",
              "      <td>NaN</td>\n",
              "      <td>NaN</td>\n",
              "      <td>executive</td>\n",
              "      <td>asap</td>\n",
              "      <td>2010-06-01 00:34:00</td>\n",
              "      <td>-12,13874817</td>\n",
              "      <td>-76,99536133</td>\n",
              "      <td>2010-06-01 00:37:00</td>\n",
              "      <td>...</td>\n",
              "      <td>not found</td>\n",
              "      <td>NaN</td>\n",
              "      <td>NaN</td>\n",
              "      <td>NaT</td>\n",
              "      <td>iPhone</td>\n",
              "      <td>NaN</td>\n",
              "      <td>NaN</td>\n",
              "      <td>NaN</td>\n",
              "      <td>6</td>\n",
              "      <td>Tuesday</td>\n",
              "    </tr>\n",
              "    <tr>\n",
              "      <th>2</th>\n",
              "      <td>dd91e131888064bf7df3ce08f3d4b4ad</td>\n",
              "      <td>a553c46e3a22fb9c326aeb3d72b3334e</td>\n",
              "      <td>NaN</td>\n",
              "      <td>NaN</td>\n",
              "      <td>executive</td>\n",
              "      <td>asap</td>\n",
              "      <td>2010-05-31 05:01:00</td>\n",
              "      <td>-12,12453079</td>\n",
              "      <td>-77,02780151</td>\n",
              "      <td>2010-05-31 05:04:00</td>\n",
              "      <td>...</td>\n",
              "      <td>not found</td>\n",
              "      <td>NaN</td>\n",
              "      <td>NaN</td>\n",
              "      <td>NaT</td>\n",
              "      <td>iPhone</td>\n",
              "      <td>NaN</td>\n",
              "      <td>NaN</td>\n",
              "      <td>NaN</td>\n",
              "      <td>5</td>\n",
              "      <td>Monday</td>\n",
              "    </tr>\n",
              "  </tbody>\n",
              "</table>\n",
              "<p>3 rows × 22 columns</p>\n",
              "</div>\n",
              "    <div class=\"colab-df-buttons\">\n",
              "\n",
              "  <div class=\"colab-df-container\">\n",
              "    <button class=\"colab-df-convert\" onclick=\"convertToInteractive('df-5fc7c483-6404-4881-911b-f9a5b1092404')\"\n",
              "            title=\"Convert this dataframe to an interactive table.\"\n",
              "            style=\"display:none;\">\n",
              "\n",
              "  <svg xmlns=\"http://www.w3.org/2000/svg\" height=\"24px\" viewBox=\"0 -960 960 960\">\n",
              "    <path d=\"M120-120v-720h720v720H120Zm60-500h600v-160H180v160Zm220 220h160v-160H400v160Zm0 220h160v-160H400v160ZM180-400h160v-160H180v160Zm440 0h160v-160H620v160ZM180-180h160v-160H180v160Zm440 0h160v-160H620v160Z\"/>\n",
              "  </svg>\n",
              "    </button>\n",
              "\n",
              "  <style>\n",
              "    .colab-df-container {\n",
              "      display:flex;\n",
              "      gap: 12px;\n",
              "    }\n",
              "\n",
              "    .colab-df-convert {\n",
              "      background-color: #E8F0FE;\n",
              "      border: none;\n",
              "      border-radius: 50%;\n",
              "      cursor: pointer;\n",
              "      display: none;\n",
              "      fill: #1967D2;\n",
              "      height: 32px;\n",
              "      padding: 0 0 0 0;\n",
              "      width: 32px;\n",
              "    }\n",
              "\n",
              "    .colab-df-convert:hover {\n",
              "      background-color: #E2EBFA;\n",
              "      box-shadow: 0px 1px 2px rgba(60, 64, 67, 0.3), 0px 1px 3px 1px rgba(60, 64, 67, 0.15);\n",
              "      fill: #174EA6;\n",
              "    }\n",
              "\n",
              "    .colab-df-buttons div {\n",
              "      margin-bottom: 4px;\n",
              "    }\n",
              "\n",
              "    [theme=dark] .colab-df-convert {\n",
              "      background-color: #3B4455;\n",
              "      fill: #D2E3FC;\n",
              "    }\n",
              "\n",
              "    [theme=dark] .colab-df-convert:hover {\n",
              "      background-color: #434B5C;\n",
              "      box-shadow: 0px 1px 3px 1px rgba(0, 0, 0, 0.15);\n",
              "      filter: drop-shadow(0px 1px 2px rgba(0, 0, 0, 0.3));\n",
              "      fill: #FFFFFF;\n",
              "    }\n",
              "  </style>\n",
              "\n",
              "    <script>\n",
              "      const buttonEl =\n",
              "        document.querySelector('#df-5fc7c483-6404-4881-911b-f9a5b1092404 button.colab-df-convert');\n",
              "      buttonEl.style.display =\n",
              "        google.colab.kernel.accessAllowed ? 'block' : 'none';\n",
              "\n",
              "      async function convertToInteractive(key) {\n",
              "        const element = document.querySelector('#df-5fc7c483-6404-4881-911b-f9a5b1092404');\n",
              "        const dataTable =\n",
              "          await google.colab.kernel.invokeFunction('convertToInteractive',\n",
              "                                                    [key], {});\n",
              "        if (!dataTable) return;\n",
              "\n",
              "        const docLinkHtml = 'Like what you see? Visit the ' +\n",
              "          '<a target=\"_blank\" href=https://colab.research.google.com/notebooks/data_table.ipynb>data table notebook</a>'\n",
              "          + ' to learn more about interactive tables.';\n",
              "        element.innerHTML = '';\n",
              "        dataTable['output_type'] = 'display_data';\n",
              "        await google.colab.output.renderOutput(dataTable, element);\n",
              "        const docLink = document.createElement('div');\n",
              "        docLink.innerHTML = docLinkHtml;\n",
              "        element.appendChild(docLink);\n",
              "      }\n",
              "    </script>\n",
              "  </div>\n",
              "\n",
              "\n",
              "<div id=\"df-c90529a7-2f92-495c-991f-c2d53c894851\">\n",
              "  <button class=\"colab-df-quickchart\" onclick=\"quickchart('df-c90529a7-2f92-495c-991f-c2d53c894851')\"\n",
              "            title=\"Suggest charts\"\n",
              "            style=\"display:none;\">\n",
              "\n",
              "<svg xmlns=\"http://www.w3.org/2000/svg\" height=\"24px\"viewBox=\"0 0 24 24\"\n",
              "     width=\"24px\">\n",
              "    <g>\n",
              "        <path d=\"M19 3H5c-1.1 0-2 .9-2 2v14c0 1.1.9 2 2 2h14c1.1 0 2-.9 2-2V5c0-1.1-.9-2-2-2zM9 17H7v-7h2v7zm4 0h-2V7h2v10zm4 0h-2v-4h2v4z\"/>\n",
              "    </g>\n",
              "</svg>\n",
              "  </button>\n",
              "\n",
              "<style>\n",
              "  .colab-df-quickchart {\n",
              "      --bg-color: #E8F0FE;\n",
              "      --fill-color: #1967D2;\n",
              "      --hover-bg-color: #E2EBFA;\n",
              "      --hover-fill-color: #174EA6;\n",
              "      --disabled-fill-color: #AAA;\n",
              "      --disabled-bg-color: #DDD;\n",
              "  }\n",
              "\n",
              "  [theme=dark] .colab-df-quickchart {\n",
              "      --bg-color: #3B4455;\n",
              "      --fill-color: #D2E3FC;\n",
              "      --hover-bg-color: #434B5C;\n",
              "      --hover-fill-color: #FFFFFF;\n",
              "      --disabled-bg-color: #3B4455;\n",
              "      --disabled-fill-color: #666;\n",
              "  }\n",
              "\n",
              "  .colab-df-quickchart {\n",
              "    background-color: var(--bg-color);\n",
              "    border: none;\n",
              "    border-radius: 50%;\n",
              "    cursor: pointer;\n",
              "    display: none;\n",
              "    fill: var(--fill-color);\n",
              "    height: 32px;\n",
              "    padding: 0;\n",
              "    width: 32px;\n",
              "  }\n",
              "\n",
              "  .colab-df-quickchart:hover {\n",
              "    background-color: var(--hover-bg-color);\n",
              "    box-shadow: 0 1px 2px rgba(60, 64, 67, 0.3), 0 1px 3px 1px rgba(60, 64, 67, 0.15);\n",
              "    fill: var(--button-hover-fill-color);\n",
              "  }\n",
              "\n",
              "  .colab-df-quickchart-complete:disabled,\n",
              "  .colab-df-quickchart-complete:disabled:hover {\n",
              "    background-color: var(--disabled-bg-color);\n",
              "    fill: var(--disabled-fill-color);\n",
              "    box-shadow: none;\n",
              "  }\n",
              "\n",
              "  .colab-df-spinner {\n",
              "    border: 2px solid var(--fill-color);\n",
              "    border-color: transparent;\n",
              "    border-bottom-color: var(--fill-color);\n",
              "    animation:\n",
              "      spin 1s steps(1) infinite;\n",
              "  }\n",
              "\n",
              "  @keyframes spin {\n",
              "    0% {\n",
              "      border-color: transparent;\n",
              "      border-bottom-color: var(--fill-color);\n",
              "      border-left-color: var(--fill-color);\n",
              "    }\n",
              "    20% {\n",
              "      border-color: transparent;\n",
              "      border-left-color: var(--fill-color);\n",
              "      border-top-color: var(--fill-color);\n",
              "    }\n",
              "    30% {\n",
              "      border-color: transparent;\n",
              "      border-left-color: var(--fill-color);\n",
              "      border-top-color: var(--fill-color);\n",
              "      border-right-color: var(--fill-color);\n",
              "    }\n",
              "    40% {\n",
              "      border-color: transparent;\n",
              "      border-right-color: var(--fill-color);\n",
              "      border-top-color: var(--fill-color);\n",
              "    }\n",
              "    60% {\n",
              "      border-color: transparent;\n",
              "      border-right-color: var(--fill-color);\n",
              "    }\n",
              "    80% {\n",
              "      border-color: transparent;\n",
              "      border-right-color: var(--fill-color);\n",
              "      border-bottom-color: var(--fill-color);\n",
              "    }\n",
              "    90% {\n",
              "      border-color: transparent;\n",
              "      border-bottom-color: var(--fill-color);\n",
              "    }\n",
              "  }\n",
              "</style>\n",
              "\n",
              "  <script>\n",
              "    async function quickchart(key) {\n",
              "      const quickchartButtonEl =\n",
              "        document.querySelector('#' + key + ' button');\n",
              "      quickchartButtonEl.disabled = true;  // To prevent multiple clicks.\n",
              "      quickchartButtonEl.classList.add('colab-df-spinner');\n",
              "      try {\n",
              "        const charts = await google.colab.kernel.invokeFunction(\n",
              "            'suggestCharts', [key], {});\n",
              "      } catch (error) {\n",
              "        console.error('Error during call to suggestCharts:', error);\n",
              "      }\n",
              "      quickchartButtonEl.classList.remove('colab-df-spinner');\n",
              "      quickchartButtonEl.classList.add('colab-df-quickchart-complete');\n",
              "    }\n",
              "    (() => {\n",
              "      let quickchartButtonEl =\n",
              "        document.querySelector('#df-c90529a7-2f92-495c-991f-c2d53c894851 button');\n",
              "      quickchartButtonEl.style.display =\n",
              "        google.colab.kernel.accessAllowed ? 'block' : 'none';\n",
              "    })();\n",
              "  </script>\n",
              "</div>\n",
              "    </div>\n",
              "  </div>\n"
            ],
            "application/vnd.google.colaboratory.intrinsic+json": {
              "type": "dataframe",
              "variable_name": "taxi"
            }
          },
          "metadata": {},
          "execution_count": 88
        }
      ]
    },
    {
      "cell_type": "markdown",
      "source": [
        "12) ⭐️Задание со звёздочкой!⭐️<br>\n",
        "Постройте график числа заказов по месяцам (month). Подумайте, с чем может быть связана полученная картина.<br>\n",
        "Вопрос: в каком летнем месяце было сделано наименьшее число заказов? В качестве ответа введите номер месяца (6, 7 или 8)."
      ],
      "metadata": {
        "id": "A38aBbkT8bad"
      }
    },
    {
      "cell_type": "code",
      "source": [
        "taxi.month.value_counts().sort_index().plot(kind='bar',figsize=(15,7))\n"
      ],
      "metadata": {
        "id": "loNR3qTK8_fd",
        "colab": {
          "base_uri": "https://localhost:8080/",
          "height": 640
        },
        "outputId": "5d53a9c3-df6f-4a92-b73f-2a846fdf965d"
      },
      "execution_count": 91,
      "outputs": [
        {
          "output_type": "execute_result",
          "data": {
            "text/plain": [
              "<Axes: xlabel='month'>"
            ]
          },
          "metadata": {},
          "execution_count": 91
        },
        {
          "output_type": "display_data",
          "data": {
            "text/plain": [
              "<Figure size 1500x700 with 1 Axes>"
            ],
            "image/png": "[encoded data removed]"
          },
          "metadata": {}
        }
      ]
    },
    {
      "cell_type": "markdown",
      "source": [
        "распределение похоже, что компания только вышла на рынок, либо применила какую-то рекламную активность"
      ],
      "metadata": {
        "id": "Nmn0Ysi5uynG"
      }
    },
    {
      "cell_type": "markdown",
      "source": [
        "13) ⭐️Задание со звёздочкой!⭐️<br>\n",
        "А теперь – график по дням недели (weekday). Задать порядок столбиков на графике можно с помощью аргумента order, которому нужно передать список названий в нужном порядке.<br> Например: <br>\n",
        "sns.countplot(data['column'], order=['One', 'Two', 'Three'])<br>\n",
        "Вопрос: в какой день недели суммарно поступило меньше всего заказов?"
      ],
      "metadata": {
        "id": "QKzFQ1TN8bjd"
      }
    },
    {
      "cell_type": "code",
      "source": [
        "taxi_week = taxi.weekday.value_counts()\n",
        "map_day = {'Monday': 1,\n",
        "            'Tuesday': 2,\n",
        "            'Wednesday': 3,\n",
        "            'Thursday': 4,\n",
        "            'Friday': 5,\n",
        "            'Saturday': 6,\n",
        "            'Sunday': 7}\n",
        "taxi_week = taxi_week.reindex(index=sorted(taxi_week.index, key=lambda x: map_day[x]))\n",
        "taxi_week.plot(kind='bar',figsize=(15,7))"
      ],
      "metadata": {
        "id": "a-NNeR-f8_-u",
        "colab": {
          "base_uri": "https://localhost:8080/",
          "height": 702
        },
        "outputId": "e9040c6e-30a1-485b-dab0-c7fc40e7e664"
      },
      "execution_count": 103,
      "outputs": [
        {
          "output_type": "execute_result",
          "data": {
            "text/plain": [
              "<Axes: xlabel='weekday'>"
            ]
          },
          "metadata": {},
          "execution_count": 103
        },
        {
          "output_type": "display_data",
          "data": {
            "text/plain": [
              "<Figure size 1500x700 with 1 Axes>"
            ],
            "image/png": "[encoded data removed]"
          },
          "metadata": {}
        }
      ]
    },
    {
      "cell_type": "markdown",
      "source": [
        "Меньше всего заказов было в среду"
      ],
      "metadata": {
        "id": "5oizXxLu3szF"
      }
    },
    {
      "cell_type": "markdown",
      "source": [
        "14) ⭐️Задание со звёздочкой!⭐️<br>\n",
        "Также мы можем посмотреть на несколько простых метрик, показывающих число уникальных пользователей за определённый период:<br>\n",
        "DAU (daily active users) – число уникальных пользователей за день<br>\n",
        "WAU (weekly active users) – число уникальных пользователей за неделю<br>\n",
        "MAU (monthly active users) – число уникальных пользователей за месяц<br>\n",
        "Активные пользователи – те, кто воспользовался приложением и сделал хотя бы один заказ за выбранный промежуток времени. Постройте график MAU и выберите верные утверждения. <br>\n",
        "Могут пригодиться:<br>\n",
        "groupby – группировка<br>\n",
        "nunique – число уникальных значений<br>\n",
        "plot.line – линейная диаграмма"
      ],
      "metadata": {
        "id": "_jtFNm447RK_"
      }
    },
    {
      "cell_type": "code",
      "source": [
        "mau = taxi.groupby('month', as_index=False).agg({'user_id': 'nunique'})\n",
        "mau"
      ],
      "metadata": {
        "colab": {
          "base_uri": "https://localhost:8080/",
          "height": 425
        },
        "id": "563h7Cpm6RB6",
        "outputId": "e371fa36-273a-4015-b554-801b38d9aedb"
      },
      "execution_count": 106,
      "outputs": [
        {
          "output_type": "execute_result",
          "data": {
            "text/plain": [
              "    month  user_id\n",
              "0       1      102\n",
              "1       2      110\n",
              "2       3      162\n",
              "3       4      253\n",
              "4       5      275\n",
              "5       6      309\n",
              "6       7      318\n",
              "7       8      377\n",
              "8       9      416\n",
              "9      10      437\n",
              "10     11      504\n",
              "11     12      569"
            ],
            "text/html": [
              "\n",
              "  <div id=\"df-1a9f6d95-1f00-489c-80bb-dce0c21efa78\" class=\"colab-df-container\">\n",
              "    <div>\n",
              "<style scoped>\n",
              "    .dataframe tbody tr th:only-of-type {\n",
              "        vertical-align: middle;\n",
              "    }\n",
              "\n",
              "    .dataframe tbody tr th {\n",
              "        vertical-align: top;\n",
              "    }\n",
              "\n",
              "    .dataframe thead th {\n",
              "        text-align: right;\n",
              "    }\n",
              "</style>\n",
              "<table border=\"1\" class=\"dataframe\">\n",
              "  <thead>\n",
              "    <tr style=\"text-align: right;\">\n",
              "      <th></th>\n",
              "      <th>month</th>\n",
              "      <th>user_id</th>\n",
              "    </tr>\n",
              "  </thead>\n",
              "  <tbody>\n",
              "    <tr>\n",
              "      <th>0</th>\n",
              "      <td>1</td>\n",
              "      <td>102</td>\n",
              "    </tr>\n",
              "    <tr>\n",
              "      <th>1</th>\n",
              "      <td>2</td>\n",
              "      <td>110</td>\n",
              "    </tr>\n",
              "    <tr>\n",
              "      <th>2</th>\n",
              "      <td>3</td>\n",
              "      <td>162</td>\n",
              "    </tr>\n",
              "    <tr>\n",
              "      <th>3</th>\n",
              "      <td>4</td>\n",
              "      <td>253</td>\n",
              "    </tr>\n",
              "    <tr>\n",
              "      <th>4</th>\n",
              "      <td>5</td>\n",
              "      <td>275</td>\n",
              "    </tr>\n",
              "    <tr>\n",
              "      <th>5</th>\n",
              "      <td>6</td>\n",
              "      <td>309</td>\n",
              "    </tr>\n",
              "    <tr>\n",
              "      <th>6</th>\n",
              "      <td>7</td>\n",
              "      <td>318</td>\n",
              "    </tr>\n",
              "    <tr>\n",
              "      <th>7</th>\n",
              "      <td>8</td>\n",
              "      <td>377</td>\n",
              "    </tr>\n",
              "    <tr>\n",
              "      <th>8</th>\n",
              "      <td>9</td>\n",
              "      <td>416</td>\n",
              "    </tr>\n",
              "    <tr>\n",
              "      <th>9</th>\n",
              "      <td>10</td>\n",
              "      <td>437</td>\n",
              "    </tr>\n",
              "    <tr>\n",
              "      <th>10</th>\n",
              "      <td>11</td>\n",
              "      <td>504</td>\n",
              "    </tr>\n",
              "    <tr>\n",
              "      <th>11</th>\n",
              "      <td>12</td>\n",
              "      <td>569</td>\n",
              "    </tr>\n",
              "  </tbody>\n",
              "</table>\n",
              "</div>\n",
              "    <div class=\"colab-df-buttons\">\n",
              "\n",
              "  <div class=\"colab-df-container\">\n",
              "    <button class=\"colab-df-convert\" onclick=\"convertToInteractive('df-1a9f6d95-1f00-489c-80bb-dce0c21efa78')\"\n",
              "            title=\"Convert this dataframe to an interactive table.\"\n",
              "            style=\"display:none;\">\n",
              "\n",
              "  <svg xmlns=\"http://www.w3.org/2000/svg\" height=\"24px\" viewBox=\"0 -960 960 960\">\n",
              "    <path d=\"M120-120v-720h720v720H120Zm60-500h600v-160H180v160Zm220 220h160v-160H400v160Zm0 220h160v-160H400v160ZM180-400h160v-160H180v160Zm440 0h160v-160H620v160ZM180-180h160v-160H180v160Zm440 0h160v-160H620v160Z\"/>\n",
              "  </svg>\n",
              "    </button>\n",
              "\n",
              "  <style>\n",
              "    .colab-df-container {\n",
              "      display:flex;\n",
              "      gap: 12px;\n",
              "    }\n",
              "\n",
              "    .colab-df-convert {\n",
              "      background-color: #E8F0FE;\n",
              "      border: none;\n",
              "      border-radius: 50%;\n",
              "      cursor: pointer;\n",
              "      display: none;\n",
              "      fill: #1967D2;\n",
              "      height: 32px;\n",
              "      padding: 0 0 0 0;\n",
              "      width: 32px;\n",
              "    }\n",
              "\n",
              "    .colab-df-convert:hover {\n",
              "      background-color: #E2EBFA;\n",
              "      box-shadow: 0px 1px 2px rgba(60, 64, 67, 0.3), 0px 1px 3px 1px rgba(60, 64, 67, 0.15);\n",
              "      fill: #174EA6;\n",
              "    }\n",
              "\n",
              "    .colab-df-buttons div {\n",
              "      margin-bottom: 4px;\n",
              "    }\n",
              "\n",
              "    [theme=dark] .colab-df-convert {\n",
              "      background-color: #3B4455;\n",
              "      fill: #D2E3FC;\n",
              "    }\n",
              "\n",
              "    [theme=dark] .colab-df-convert:hover {\n",
              "      background-color: #434B5C;\n",
              "      box-shadow: 0px 1px 3px 1px rgba(0, 0, 0, 0.15);\n",
              "      filter: drop-shadow(0px 1px 2px rgba(0, 0, 0, 0.3));\n",
              "      fill: #FFFFFF;\n",
              "    }\n",
              "  </style>\n",
              "\n",
              "    <script>\n",
              "      const buttonEl =\n",
              "        document.querySelector('#df-1a9f6d95-1f00-489c-80bb-dce0c21efa78 button.colab-df-convert');\n",
              "      buttonEl.style.display =\n",
              "        google.colab.kernel.accessAllowed ? 'block' : 'none';\n",
              "\n",
              "      async function convertToInteractive(key) {\n",
              "        const element = document.querySelector('#df-1a9f6d95-1f00-489c-80bb-dce0c21efa78');\n",
              "        const dataTable =\n",
              "          await google.colab.kernel.invokeFunction('convertToInteractive',\n",
              "                                                    [key], {});\n",
              "        if (!dataTable) return;\n",
              "\n",
              "        const docLinkHtml = 'Like what you see? Visit the ' +\n",
              "          '<a target=\"_blank\" href=https://colab.research.google.com/notebooks/data_table.ipynb>data table notebook</a>'\n",
              "          + ' to learn more about interactive tables.';\n",
              "        element.innerHTML = '';\n",
              "        dataTable['output_type'] = 'display_data';\n",
              "        await google.colab.output.renderOutput(dataTable, element);\n",
              "        const docLink = document.createElement('div');\n",
              "        docLink.innerHTML = docLinkHtml;\n",
              "        element.appendChild(docLink);\n",
              "      }\n",
              "    </script>\n",
              "  </div>\n",
              "\n",
              "\n",
              "<div id=\"df-ff5a61ff-7f29-4bd0-a183-09045dd6dda2\">\n",
              "  <button class=\"colab-df-quickchart\" onclick=\"quickchart('df-ff5a61ff-7f29-4bd0-a183-09045dd6dda2')\"\n",
              "            title=\"Suggest charts\"\n",
              "            style=\"display:none;\">\n",
              "\n",
              "<svg xmlns=\"http://www.w3.org/2000/svg\" height=\"24px\"viewBox=\"0 0 24 24\"\n",
              "     width=\"24px\">\n",
              "    <g>\n",
              "        <path d=\"M19 3H5c-1.1 0-2 .9-2 2v14c0 1.1.9 2 2 2h14c1.1 0 2-.9 2-2V5c0-1.1-.9-2-2-2zM9 17H7v-7h2v7zm4 0h-2V7h2v10zm4 0h-2v-4h2v4z\"/>\n",
              "    </g>\n",
              "</svg>\n",
              "  </button>\n",
              "\n",
              "<style>\n",
              "  .colab-df-quickchart {\n",
              "      --bg-color: #E8F0FE;\n",
              "      --fill-color: #1967D2;\n",
              "      --hover-bg-color: #E2EBFA;\n",
              "      --hover-fill-color: #174EA6;\n",
              "      --disabled-fill-color: #AAA;\n",
              "      --disabled-bg-color: #DDD;\n",
              "  }\n",
              "\n",
              "  [theme=dark] .colab-df-quickchart {\n",
              "      --bg-color: #3B4455;\n",
              "      --fill-color: #D2E3FC;\n",
              "      --hover-bg-color: #434B5C;\n",
              "      --hover-fill-color: #FFFFFF;\n",
              "      --disabled-bg-color: #3B4455;\n",
              "      --disabled-fill-color: #666;\n",
              "  }\n",
              "\n",
              "  .colab-df-quickchart {\n",
              "    background-color: var(--bg-color);\n",
              "    border: none;\n",
              "    border-radius: 50%;\n",
              "    cursor: pointer;\n",
              "    display: none;\n",
              "    fill: var(--fill-color);\n",
              "    height: 32px;\n",
              "    padding: 0;\n",
              "    width: 32px;\n",
              "  }\n",
              "\n",
              "  .colab-df-quickchart:hover {\n",
              "    background-color: var(--hover-bg-color);\n",
              "    box-shadow: 0 1px 2px rgba(60, 64, 67, 0.3), 0 1px 3px 1px rgba(60, 64, 67, 0.15);\n",
              "    fill: var(--button-hover-fill-color);\n",
              "  }\n",
              "\n",
              "  .colab-df-quickchart-complete:disabled,\n",
              "  .colab-df-quickchart-complete:disabled:hover {\n",
              "    background-color: var(--disabled-bg-color);\n",
              "    fill: var(--disabled-fill-color);\n",
              "    box-shadow: none;\n",
              "  }\n",
              "\n",
              "  .colab-df-spinner {\n",
              "    border: 2px solid var(--fill-color);\n",
              "    border-color: transparent;\n",
              "    border-bottom-color: var(--fill-color);\n",
              "    animation:\n",
              "      spin 1s steps(1) infinite;\n",
              "  }\n",
              "\n",
              "  @keyframes spin {\n",
              "    0% {\n",
              "      border-color: transparent;\n",
              "      border-bottom-color: var(--fill-color);\n",
              "      border-left-color: var(--fill-color);\n",
              "    }\n",
              "    20% {\n",
              "      border-color: transparent;\n",
              "      border-left-color: var(--fill-color);\n",
              "      border-top-color: var(--fill-color);\n",
              "    }\n",
              "    30% {\n",
              "      border-color: transparent;\n",
              "      border-left-color: var(--fill-color);\n",
              "      border-top-color: var(--fill-color);\n",
              "      border-right-color: var(--fill-color);\n",
              "    }\n",
              "    40% {\n",
              "      border-color: transparent;\n",
              "      border-right-color: var(--fill-color);\n",
              "      border-top-color: var(--fill-color);\n",
              "    }\n",
              "    60% {\n",
              "      border-color: transparent;\n",
              "      border-right-color: var(--fill-color);\n",
              "    }\n",
              "    80% {\n",
              "      border-color: transparent;\n",
              "      border-right-color: var(--fill-color);\n",
              "      border-bottom-color: var(--fill-color);\n",
              "    }\n",
              "    90% {\n",
              "      border-color: transparent;\n",
              "      border-bottom-color: var(--fill-color);\n",
              "    }\n",
              "  }\n",
              "</style>\n",
              "\n",
              "  <script>\n",
              "    async function quickchart(key) {\n",
              "      const quickchartButtonEl =\n",
              "        document.querySelector('#' + key + ' button');\n",
              "      quickchartButtonEl.disabled = true;  // To prevent multiple clicks.\n",
              "      quickchartButtonEl.classList.add('colab-df-spinner');\n",
              "      try {\n",
              "        const charts = await google.colab.kernel.invokeFunction(\n",
              "            'suggestCharts', [key], {});\n",
              "      } catch (error) {\n",
              "        console.error('Error during call to suggestCharts:', error);\n",
              "      }\n",
              "      quickchartButtonEl.classList.remove('colab-df-spinner');\n",
              "      quickchartButtonEl.classList.add('colab-df-quickchart-complete');\n",
              "    }\n",
              "    (() => {\n",
              "      let quickchartButtonEl =\n",
              "        document.querySelector('#df-ff5a61ff-7f29-4bd0-a183-09045dd6dda2 button');\n",
              "      quickchartButtonEl.style.display =\n",
              "        google.colab.kernel.accessAllowed ? 'block' : 'none';\n",
              "    })();\n",
              "  </script>\n",
              "</div>\n",
              "    </div>\n",
              "  </div>\n"
            ],
            "application/vnd.google.colaboratory.intrinsic+json": {
              "type": "dataframe",
              "variable_name": "mau",
              "summary": "{\n  \"name\": \"mau\",\n  \"rows\": 12,\n  \"fields\": [\n    {\n      \"column\": \"month\",\n      \"properties\": {\n        \"dtype\": \"int32\",\n        \"num_unique_values\": 12,\n        \"samples\": [\n          11,\n          10,\n          1\n        ],\n        \"semantic_type\": \"\",\n        \"description\": \"\"\n      }\n    },\n    {\n      \"column\": \"user_id\",\n      \"properties\": {\n        \"dtype\": \"number\",\n        \"std\": 149,\n        \"min\": 102,\n        \"max\": 569,\n        \"num_unique_values\": 12,\n        \"samples\": [\n          504,\n          437,\n          102\n        ],\n        \"semantic_type\": \"\",\n        \"description\": \"\"\n      }\n    }\n  ]\n}"
            }
          },
          "metadata": {},
          "execution_count": 106
        }
      ]
    },
    {
      "source": [
        "# @title MAU\n",
        "\n",
        "from matplotlib import pyplot as plt\n",
        "mau['user_id'].plot(kind='line', figsize=(8, 4), title='MAU')\n",
        "plt.gca().spines[['top', 'right']].set_visible(False)"
      ],
      "cell_type": "code",
      "execution_count": 108,
      "outputs": [
        {
          "output_type": "display_data",
          "data": {
            "text/plain": [
              "<Figure size 800x400 with 1 Axes>"
            ],
            "image/png": "[encoded data removed]"
          },
          "metadata": {}
        }
      ],
      "metadata": {
        "colab": {
          "base_uri": "https://localhost:8080/",
          "height": 391
        },
        "id": "5doxJ5dz7JJq",
        "outputId": "0ce3c540-27fc-4a2d-e19b-a42b6fa9c10e"
      }
    }
  ]
}