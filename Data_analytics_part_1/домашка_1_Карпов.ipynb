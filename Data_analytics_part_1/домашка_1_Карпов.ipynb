{
  "nbformat": 4,
  "nbformat_minor": 0,
  "metadata": {
    "colab": {
      "provenance": [],
      "authorship_tag": "ABX9TyOrgYLc8dPbBChgcY87gBxL",
      "include_colab_link": true
    },
    "kernelspec": {
      "name": "python3",
      "display_name": "Python 3"
    },
    "language_info": {
      "name": "python"
    }
  },
  "cells": [
    {
      "cell_type": "markdown",
      "metadata": {
        "id": "view-in-github",
        "colab_type": "text"
      },
      "source": [
        "<a href=\"https://colab.research.google.com/github/Lis30/Homeworks/blob/main/%D0%B4%D0%BE%D0%BC%D0%B0%D1%88%D0%BA%D0%B0_1_%D0%9A%D0%B0%D1%80%D0%BF%D0%BE%D0%B2.ipynb\" target=\"_parent\"><img src=\"https://colab.research.google.com/assets/colab-badge.svg\" alt=\"Open In Colab\"/></a>"
      ]
    },
    {
      "cell_type": "markdown",
      "source": [
        "1) Начнём с простого - сохраните в переменную age произвольный возраст, выраженный целым числом, а в переменную name какое-нибудь\n",
        "имя в виде строки"
      ],
      "metadata": {
        "id": "GbeX96Pynrpk"
      }
    },
    {
      "cell_type": "code",
      "execution_count": null,
      "metadata": {
        "id": "8YKxsbYaniQx"
      },
      "outputs": [],
      "source": [
        "name = 'Sergey'\n",
        "age = 40"
      ]
    },
    {
      "cell_type": "markdown",
      "source": [
        "2) Создайте список user_info, содержащий 2 строки (имя и фамилия пользователя), 1 дробное число (зарплата) и 1 целое число (стаж)"
      ],
      "metadata": {
        "id": "RbYnBearnvda"
      }
    },
    {
      "cell_type": "code",
      "source": [
        "user_info = ['Sergey', 'Ivanov', 50000.5, 1]\n",
        "user_info"
      ],
      "metadata": {
        "colab": {
          "base_uri": "https://localhost:8080/"
        },
        "id": "Ac635lFKojfC",
        "outputId": "153c186d-1113-4204-a8a0-dff8111b6c21"
      },
      "execution_count": null,
      "outputs": [
        {
          "output_type": "execute_result",
          "data": {
            "text/plain": [
              "['Sergey', 'Ivanov', 50000.5, 1]"
            ]
          },
          "metadata": {},
          "execution_count": 2
        }
      ]
    },
    {
      "cell_type": "markdown",
      "source": [
        "3) Поместите в переменную first первый (то есть нулевой) элемент из списка salaries"
      ],
      "metadata": {
        "id": "36mSoWkznyLD"
      }
    },
    {
      "cell_type": "code",
      "source": [
        "first = user_info[0]\n",
        "first"
      ],
      "metadata": {
        "colab": {
          "base_uri": "https://localhost:8080/",
          "height": 35
        },
        "id": "5CjLx7j6pf6r",
        "outputId": "82710e92-08bc-44df-b582-fea6f9d321ea"
      },
      "execution_count": null,
      "outputs": [
        {
          "output_type": "execute_result",
          "data": {
            "text/plain": [
              "'Sergey'"
            ],
            "application/vnd.google.colaboratory.intrinsic+json": {
              "type": "string"
            }
          },
          "metadata": {},
          "execution_count": 4
        }
      ]
    },
    {
      "cell_type": "markdown",
      "source": [
        "\n",
        "4) Добавьте в список users элементы 'Voronov' и 42"
      ],
      "metadata": {
        "id": "ei5fxHHCn0bz"
      }
    },
    {
      "cell_type": "code",
      "source": [
        "users = ['Voronov', 42]"
      ],
      "metadata": {
        "id": "RfeQv7zrptdq"
      },
      "execution_count": null,
      "outputs": []
    },
    {
      "cell_type": "markdown",
      "source": [
        "\n",
        "5) В переменной user_ages содержится список возрастов клиентов. Напишите петлю, выводящую на печать возраста, которые больше 18<br>\n",
        "Пример данных, которые могут быть в user_ages<br>\n",
        "user_ages = [10, 18, 21, 35, 42, 27, 12, 16]<br>\n",
        "Note: в этом задании нужно печатать эти числа"
      ],
      "metadata": {
        "id": "g7ZH19Ken3r0"
      }
    },
    {
      "cell_type": "code",
      "source": [
        "user_ages = [10, 18, 21, 35, 42, 27, 12, 16]\n",
        "\n",
        "for i in user_ages:\n",
        "    if i>=18:\n",
        "        print(i)"
      ],
      "metadata": {
        "colab": {
          "base_uri": "https://localhost:8080/"
        },
        "id": "k6pKBsHypsmh",
        "outputId": "b8657a36-d5d1-4812-96d4-166ccd61b9e4"
      },
      "execution_count": null,
      "outputs": [
        {
          "output_type": "stream",
          "name": "stdout",
          "text": [
            "18\n",
            "21\n",
            "35\n",
            "42\n",
            "27\n"
          ]
        }
      ]
    },
    {
      "cell_type": "markdown",
      "source": [
        "\n",
        "6) Напишите программу, проверяющую стаж работы сотрудника. В переменной worker содержится список, содержащий значения как во 2-ом задании (имя, фамилия, зарплата, стаж). Поместите в переменную status такую строку<br>\n",
        "\n",
        "user_name user_family is position<br>\n",
        "\n",
        "где user_name и user_family - имя и фамилия сотрудника, а position - одна из следующих строк<br>\n",
        "\n",
        "'junior' - стаж меньше 2 лет<br>\n",
        "'middle' - стаж больше либо равен 2 лет<br>\n",
        "'senior' - стаж больше 5 лет <br>\n",
        "Пример данных, которые могут быть в worker<br>\n",
        "<br>\n",
        "worker = ['Olya', 'Silyutina', 350000, 3]<br>\n",
        "Hint: печатать результат не нужно, просто задайте его в переменную status"
      ],
      "metadata": {
        "id": "pH8yKtAen_ei"
      }
    },
    {
      "cell_type": "code",
      "source": [
        "for worker in workers:\n",
        "    if worker[3]<2:\n",
        "        position = 'junior'\n",
        "    elif worker[3]<=5 and worker[3]>=2:\n",
        "        position = 'middle'\n",
        "    else:\n",
        "        position = 'senior'\n",
        "    print(f'{worker[0]} {worker[1]} is {position}')"
      ],
      "metadata": {
        "id": "5HutADmAqF9E"
      },
      "execution_count": null,
      "outputs": []
    },
    {
      "cell_type": "markdown",
      "source": [
        "7) В списке values содержатся числовые значения. Создайте список tens и добавьте в него все числа из values, которые делятся на 10 нацело<br>\n",
        "Пример данных, которые могут быть в values<br>\n",
        "values = [12, 134, 10, 47, 100, 20, 50, 160, 210"
      ],
      "metadata": {
        "id": "6flfEidcoL8C"
      }
    },
    {
      "cell_type": "code",
      "source": [
        "values = [12, 134, 10, 47, 100, 20, 50, 160, 210]\n",
        "tens = []\n",
        "\n",
        "for i in values:\n",
        "    if i%10==0:\n",
        "        tens.append(i)\n",
        "print(tens)"
      ],
      "metadata": {
        "colab": {
          "base_uri": "https://localhost:8080/"
        },
        "id": "Rj6ZRutdroLV",
        "outputId": "7a7f6e5e-bd4b-4bbf-bd29-ccd442aea920"
      },
      "execution_count": null,
      "outputs": [
        {
          "output_type": "stream",
          "name": "stdout",
          "text": [
            "[10, 100, 20, 50, 160, 210]\n"
          ]
        }
      ]
    },
    {
      "cell_type": "markdown",
      "source": [
        "8) ⭐️Задание со звёздочкой!⭐️<br>\n",
        "Реализуйте цикл, который пробегается по списку workers со значениями как в 2-ом и 6-ом заданиях, и выводит для каждого сотрудника<br>\n",
        "строку (то есть печатает её для каждого элемента списка)<br>\n",
        "user_name user_family is position<br>\n",
        "где user_name и user_family - имя и фамилия сотрудника, а position - одна из следующих строк<br>\n",
        "'junior' - стаж меньше 2 лет<br>\n",
        "'middle' - стаж больше либо равен 2 лет<br>\n",
        "'senior' - стаж больше 5 лет <br>\n",
        "Пример данных, которые могут быть в workers<br>\n",
        "workers = [['Ivan', 'Ivanov', 100000, 2], ['Petr', 'Petrov', 150000, 2], ['Sidor', 'Sidorov', 200000, 3]]<br>\n",
        "Note: в этом задании нужно печатать эти строки"
      ],
      "metadata": {
        "id": "JACb-M48oRiC"
      }
    },
    {
      "cell_type": "code",
      "source": [
        "workers = [['Ivan', 'Ivanov', 100000, 1], ['Petr', 'Petrov', 150000, 2], ['Sidor', 'Sidorov', 200000, 5.5]]\n",
        "\n",
        "for worker in workers:\n",
        "    if worker[3]<2:\n",
        "        position = 'junior'\n",
        "    elif worker[3]<=5 and worker[3]>=2:\n",
        "        position = 'middle'\n",
        "    else:\n",
        "        position = 'senior'\n",
        "    print(f'{worker[0]} {worker[1]} is {position}')"
      ],
      "metadata": {
        "colab": {
          "base_uri": "https://localhost:8080/"
        },
        "id": "vIwqnVzbsQmq",
        "outputId": "7f283009-eaa0-4fc9-ce85-e0d65e4edc4d"
      },
      "execution_count": null,
      "outputs": [
        {
          "output_type": "stream",
          "name": "stdout",
          "text": [
            "Ivan Ivanov is junior\n",
            "Petr Petrov is middle\n",
            "Sidor Sidorov is senior\n"
          ]
        }
      ]
    }
  ]
}